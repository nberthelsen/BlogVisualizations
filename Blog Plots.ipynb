{
 "cells": [
  {
   "cell_type": "code",
   "execution_count": null,
   "metadata": {
    "colab": {},
    "colab_type": "code",
    "id": "23s5ji6GCepA"
   },
   "outputs": [],
   "source": [
    "import pandas as pd\n",
    "import numpy as np\n",
    "import plotly_express as px"
   ]
  },
  {
   "cell_type": "code",
   "execution_count": null,
   "metadata": {
    "colab": {},
    "colab_type": "code",
    "id": "-ClJR6nVCepG"
   },
   "outputs": [],
   "source": [
    "df=px.data.iris()"
   ]
  },
  {
   "cell_type": "code",
   "execution_count": null,
   "metadata": {
    "colab": {
     "base_uri": "https://localhost:8080/",
     "height": 204
    },
    "colab_type": "code",
    "executionInfo": {
     "elapsed": 6603,
     "status": "ok",
     "timestamp": 1581650125135,
     "user": {
      "displayName": "Nick Berthelsen",
      "photoUrl": "https://lh3.googleusercontent.com/a-/AAuE7mB5k4-D0ArDa4K3k5yE3Nsy7oIalx6HW85zugaSIw=s64",
      "userId": "02977762584014462029"
     },
     "user_tz": 360
    },
    "id": "0ijSNDbGCepK",
    "outputId": "8a862a45-9522-4d5e-eb1d-370ead4c5a03"
   },
   "outputs": [],
   "source": [
    "df.head()"
   ]
  },
  {
   "cell_type": "code",
   "execution_count": null,
   "metadata": {
    "colab": {
     "base_uri": "https://localhost:8080/",
     "height": 312
    },
    "colab_type": "code",
    "executionInfo": {
     "elapsed": 6734,
     "status": "ok",
     "timestamp": 1581650125294,
     "user": {
      "displayName": "Nick Berthelsen",
      "photoUrl": "https://lh3.googleusercontent.com/a-/AAuE7mB5k4-D0ArDa4K3k5yE3Nsy7oIalx6HW85zugaSIw=s64",
      "userId": "02977762584014462029"
     },
     "user_tz": 360
    },
    "id": "xLGQ035Nbvm6",
    "outputId": "c6592555-e27b-4334-aa26-332ed564d4f5"
   },
   "outputs": [],
   "source": [
    "import matplotlib.pyplot as plt\n",
    "%matplotlib inline\n",
    "fig, ax = plt.subplots()\n",
    "for s in df['species'].unique():\n",
    "  temp = df[df['species']==s]\n",
    "  ax.scatter(temp.sepal_length, temp.sepal_width, label=s)\n",
    "ax.legend()\n",
    "ax.set_title('Scatter Plot of Iris Data')\n",
    "ax.set_ylabel('Sepal Width')\n",
    "ax.set_xlabel('Sepal Length')\n",
    "fig.show()"
   ]
  },
  {
   "cell_type": "code",
   "execution_count": null,
   "metadata": {},
   "outputs": [],
   "source": [
    "fig.savefig('mpl scatter.png', format='png', dpi=1200)"
   ]
  },
  {
   "cell_type": "code",
   "execution_count": null,
   "metadata": {
    "colab": {
     "base_uri": "https://localhost:8080/",
     "height": 312
    },
    "colab_type": "code",
    "executionInfo": {
     "elapsed": 7497,
     "status": "ok",
     "timestamp": 1581650126089,
     "user": {
      "displayName": "Nick Berthelsen",
      "photoUrl": "https://lh3.googleusercontent.com/a-/AAuE7mB5k4-D0ArDa4K3k5yE3Nsy7oIalx6HW85zugaSIw=s64",
      "userId": "02977762584014462029"
     },
     "user_tz": 360
    },
    "id": "aR_PhxOggeCF",
    "outputId": "38fb9672-24b5-4646-ca5e-acd155c96eff"
   },
   "outputs": [],
   "source": [
    "import seaborn as sns\n",
    "fig = sns.scatterplot(x='sepal_length', y='sepal_width', hue='species', data=df)\n",
    "fig.set_title('Scatter Plot of Iris Data')\n",
    "fig.set_ylabel('Sepal Width')\n",
    "fig.set_xlabel('Sepal Length')"
   ]
  },
  {
   "cell_type": "code",
   "execution_count": null,
   "metadata": {},
   "outputs": [],
   "source": [
    "from pylab import savefig\n",
    "plot = fig.get_figure()\n",
    "plot.savefig('seaborn scatter.png', format='png', dpi=1200)"
   ]
  },
  {
   "cell_type": "code",
   "execution_count": null,
   "metadata": {
    "colab": {
     "base_uri": "https://localhost:8080/",
     "height": 279
    },
    "colab_type": "code",
    "executionInfo": {
     "elapsed": 7471,
     "status": "ok",
     "timestamp": 1581650126091,
     "user": {
      "displayName": "Nick Berthelsen",
      "photoUrl": "https://lh3.googleusercontent.com/a-/AAuE7mB5k4-D0ArDa4K3k5yE3Nsy7oIalx6HW85zugaSIw=s64",
      "userId": "02977762584014462029"
     },
     "user_tz": 360
    },
    "id": "I2fOXn0j2quX",
    "outputId": "ff65f602-82fc-4881-b9d2-d7b1a9a4894f"
   },
   "outputs": [],
   "source": [
    "fig = sns.boxplot(x='species', y='sepal_length', data=df)"
   ]
  },
  {
   "cell_type": "code",
   "execution_count": null,
   "metadata": {},
   "outputs": [],
   "source": [
    "plot = fig.get_figure()\n",
    "plot.savefig('seaborn box.png', format='png', dpi=1200)"
   ]
  },
  {
   "cell_type": "code",
   "execution_count": null,
   "metadata": {
    "colab": {
     "base_uri": "https://localhost:8080/",
     "height": 542
    },
    "colab_type": "code",
    "executionInfo": {
     "elapsed": 8644,
     "status": "ok",
     "timestamp": 1581650127291,
     "user": {
      "displayName": "Nick Berthelsen",
      "photoUrl": "https://lh3.googleusercontent.com/a-/AAuE7mB5k4-D0ArDa4K3k5yE3Nsy7oIalx6HW85zugaSIw=s64",
      "userId": "02977762584014462029"
     },
     "user_tz": 360
    },
    "id": "0LAxpvHhbqqk",
    "outputId": "203be27a-ed23-4b1d-8f6a-263e1df740f8"
   },
   "outputs": [],
   "source": [
    "import plotly\n",
    "import plotly.graph_objs as go\n",
    "\n",
    "fig = go.Figure()\n",
    "for s in df['species'].unique():\n",
    "  temp = df[df['species']==s]\n",
    "  fig.add_trace(go.Scatter(x=temp['sepal_length'], y=temp['petal_width'], \n",
    "                           name=s, mode='markers'))\n",
    "fig.update_layout(title='Iris Data Scatter Plot',\n",
    "                  xaxis_title='Sepal Length',\n",
    "                  yaxis_title='Sepal Width')\n",
    "fig.show()"
   ]
  },
  {
   "cell_type": "code",
   "execution_count": null,
   "metadata": {
    "colab": {
     "base_uri": "https://localhost:8080/",
     "height": 542
    },
    "colab_type": "code",
    "executionInfo": {
     "elapsed": 8623,
     "status": "ok",
     "timestamp": 1581650127296,
     "user": {
      "displayName": "Nick Berthelsen",
      "photoUrl": "https://lh3.googleusercontent.com/a-/AAuE7mB5k4-D0ArDa4K3k5yE3Nsy7oIalx6HW85zugaSIw=s64",
      "userId": "02977762584014462029"
     },
     "user_tz": 360
    },
    "id": "Yj1QIWlm2mzS",
    "outputId": "c82c0a65-44e2-4a59-ef5a-132cba3641c9"
   },
   "outputs": [],
   "source": [
    "fig = go.Figure()\n",
    "for s in df['species'].unique():\n",
    "  temp = df[df['species']==s]\n",
    "  fig.add_trace(go.Box(x=temp['species'], y=temp['sepal_length'], name=s))\n",
    "fig.update_layout(title='Iris Data Box Plot',\n",
    "                  xaxis_title='Species',\n",
    "                  yaxis_title='Sepal Length')\n",
    "fig.show()"
   ]
  },
  {
   "cell_type": "code",
   "execution_count": null,
   "metadata": {
    "colab": {
     "base_uri": "https://localhost:8080/",
     "height": 542
    },
    "colab_type": "code",
    "executionInfo": {
     "elapsed": 9162,
     "status": "ok",
     "timestamp": 1581650127862,
     "user": {
      "displayName": "Nick Berthelsen",
      "photoUrl": "https://lh3.googleusercontent.com/a-/AAuE7mB5k4-D0ArDa4K3k5yE3Nsy7oIalx6HW85zugaSIw=s64",
      "userId": "02977762584014462029"
     },
     "user_tz": 360
    },
    "id": "Rp7_wHXEbqn8",
    "outputId": "891ffd11-f590-45e2-b222-397d0a74efc9"
   },
   "outputs": [],
   "source": [
    "import plotly_express as px\n",
    "px.scatter(df, 'sepal_length', 'sepal_width', 'species')"
   ]
  },
  {
   "cell_type": "code",
   "execution_count": null,
   "metadata": {
    "colab": {
     "base_uri": "https://localhost:8080/",
     "height": 542
    },
    "colab_type": "code",
    "executionInfo": {
     "elapsed": 9444,
     "status": "ok",
     "timestamp": 1581650128174,
     "user": {
      "displayName": "Nick Berthelsen",
      "photoUrl": "https://lh3.googleusercontent.com/a-/AAuE7mB5k4-D0ArDa4K3k5yE3Nsy7oIalx6HW85zugaSIw=s64",
      "userId": "02977762584014462029"
     },
     "user_tz": 360
    },
    "id": "lBVuwJlEbqkf",
    "outputId": "9056d859-c8e1-424d-df52-2c01514e66a9",
    "scrolled": false
   },
   "outputs": [],
   "source": [
    "px.box(df, 'species', 'sepal_length', 'species')"
   ]
  },
  {
   "cell_type": "code",
   "execution_count": null,
   "metadata": {},
   "outputs": [],
   "source": [
    "from bokeh.plotting import figure\n",
    "from bokeh.io import show, output_notebook\n",
    "\n",
    "p = figure(plot_width=400, plot_height=400, title = 'Iris Data Scatter Plot')\n",
    "colors = ['red', 'blue', 'green']\n",
    "for c, s in zip(colors, df.species.unique()):\n",
    "    temp = df[df['species']==s]\n",
    "    p.scatter(temp['sepal_length'], temp['sepal_width'], size=5, color=c, name=s, legend=s)\n",
    "p.legend.location='top_right'\n",
    "output_notebook()\n",
    "show(p)"
   ]
  },
  {
   "cell_type": "code",
   "execution_count": null,
   "metadata": {
    "colab": {
     "base_uri": "https://localhost:8080/",
     "height": 368
    },
    "colab_type": "code",
    "executionInfo": {
     "elapsed": 9906,
     "status": "ok",
     "timestamp": 1581650128678,
     "user": {
      "displayName": "Nick Berthelsen",
      "photoUrl": "https://lh3.googleusercontent.com/a-/AAuE7mB5k4-D0ArDa4K3k5yE3Nsy7oIalx6HW85zugaSIw=s64",
      "userId": "02977762584014462029"
     },
     "user_tz": 360
    },
    "id": "QGoqo0P44LrB",
    "outputId": "464fcad1-aec8-4afc-9012-7b63d23cbef5"
   },
   "outputs": [],
   "source": [
    "import altair as alt\n",
    "alt.Chart(df, title=\"Iris Data Scatter Plot\").mark_point().encode(\n",
    "    alt.X('sepal_length:Q', scale=alt.Scale(zero=False), title='Sepal Length'),\n",
    "    alt.Y('sepal_width:Q', scale=alt.Scale(zero=False), title='Sepal Width'),\n",
    "    alt.Color('species:N', legend = alt.Legend(title='Species'))\n",
    ")"
   ]
  },
  {
   "cell_type": "code",
   "execution_count": null,
   "metadata": {
    "colab": {
     "base_uri": "https://localhost:8080/",
     "height": 401
    },
    "colab_type": "code",
    "executionInfo": {
     "elapsed": 9886,
     "status": "ok",
     "timestamp": 1581650128680,
     "user": {
      "displayName": "Nick Berthelsen",
      "photoUrl": "https://lh3.googleusercontent.com/a-/AAuE7mB5k4-D0ArDa4K3k5yE3Nsy7oIalx6HW85zugaSIw=s64",
      "userId": "02977762584014462029"
     },
     "user_tz": 360
    },
    "id": "mcf44GtE5d7z",
    "outputId": "c00f2f14-cd8d-4431-ca8b-0b86592d1e3e"
   },
   "outputs": [],
   "source": [
    "alt.Chart(df, title=\"Iris Data Box Plot\").mark_boxplot(size = 20).encode(\n",
    "    alt.X('species:N', title=\"\"),\n",
    "    alt.Y('sepal_length:Q', scale=alt.Scale(zero=False), title='Sepal Length')\n",
    ").properties(width=200)"
   ]
  }
 ],
 "metadata": {
  "colab": {
   "collapsed_sections": [],
   "name": "Blog Plots.ipynb",
   "provenance": []
  },
  "kernelspec": {
   "display_name": "Python 3",
   "language": "python",
   "name": "python3"
  },
  "language_info": {
   "codemirror_mode": {
    "name": "ipython",
    "version": 3
   },
   "file_extension": ".py",
   "mimetype": "text/x-python",
   "name": "python",
   "nbconvert_exporter": "python",
   "pygments_lexer": "ipython3",
   "version": "3.7.4"
  }
 },
 "nbformat": 4,
 "nbformat_minor": 4
}
